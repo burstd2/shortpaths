{
 "cells": [
  {
   "cell_type": "code",
   "execution_count": 1,
   "metadata": {},
   "outputs": [],
   "source": [
    "import numpy as np\n",
    "import matplotlib.pyplot as plt\n",
    "import seaborn as sns\n",
    "import igraph as ig"
   ]
  },
  {
   "cell_type": "code",
   "execution_count": 2,
   "metadata": {},
   "outputs": [],
   "source": [
    "import random_graph_gen as rgg\n",
    "import ksp"
   ]
  },
  {
   "cell_type": "code",
   "execution_count": 3,
   "metadata": {},
   "outputs": [],
   "source": [
    "import bisect"
   ]
  },
  {
   "cell_type": "markdown",
   "metadata": {},
   "source": [
    "### Generate a Random Network"
   ]
  },
  {
   "cell_type": "code",
   "execution_count": 4,
   "metadata": {},
   "outputs": [],
   "source": [
    "#generate a powerlaw degree distribution with specified moments\n",
    "#output first column is the degree, second column is the probability of attaining that degree\n",
    "a,b,D = rgg.PowerLawDegree(np.sqrt(8*1000),4,2.84)"
   ]
  },
  {
   "cell_type": "code",
   "execution_count": 5,
   "metadata": {},
   "outputs": [
    {
     "data": {
      "text/plain": [
       "7.266281448529009"
      ]
     },
     "execution_count": 5,
     "metadata": {},
     "output_type": "execute_result"
    }
   ],
   "source": [
    "#expected mean degree\n",
    "a"
   ]
  },
  {
   "cell_type": "code",
   "execution_count": 6,
   "metadata": {},
   "outputs": [],
   "source": [
    "#generate degrees from degree distribution\n",
    "degree_seq = np.random.choice(D[:,0], 1000, p=D[:,1])"
   ]
  },
  {
   "cell_type": "code",
   "execution_count": 7,
   "metadata": {},
   "outputs": [],
   "source": [
    "G = rgg.Chung_Lu_Approx(degree_seq)"
   ]
  },
  {
   "cell_type": "code",
   "execution_count": 8,
   "metadata": {},
   "outputs": [
    {
     "data": {
      "text/plain": [
       "7.234"
      ]
     },
     "execution_count": 8,
     "metadata": {},
     "output_type": "execute_result"
    }
   ],
   "source": [
    "np.sum(G)/1000"
   ]
  },
  {
   "cell_type": "markdown",
   "metadata": {},
   "source": [
    "### Construct Graph from Adjacency Matrix"
   ]
  },
  {
   "cell_type": "code",
   "execution_count": 9,
   "metadata": {},
   "outputs": [],
   "source": [
    "Network = ig.Graph.Adjacency((G > 0).tolist())"
   ]
  },
  {
   "cell_type": "code",
   "execution_count": 10,
   "metadata": {},
   "outputs": [],
   "source": [
    "#need to label each node in our network with an index from 0 to #Nodes - 1\n",
    "Network.vs['label'] = range(G.shape[0])"
   ]
  },
  {
   "cell_type": "code",
   "execution_count": 32,
   "metadata": {},
   "outputs": [
    {
     "data": {
      "text/plain": [
       "4"
      ]
     },
     "execution_count": 32,
     "metadata": {},
     "output_type": "execute_result"
    }
   ],
   "source": [
    "#check that a path exists from source to target\n",
    "Network.shortest_paths_dijkstra(source = 30)[0][40]"
   ]
  },
  {
   "cell_type": "code",
   "execution_count": 69,
   "metadata": {},
   "outputs": [
    {
     "name": "stdout",
     "output_type": "stream",
     "text": [
      "Number of Paths from Node 30 to Node 50 with Distance at most  3 : 0\n",
      "Number of Paths from Node 30 to Node 50 with Distance at most  4 : 21\n",
      "Number of Paths from Node 30 to Node 50 with Distance at most  5 : 262\n",
      "Number of Paths from Node 30 to Node 50 with Distance at most  6 : 5433\n",
      "Number of Paths from Node 30 to Node 50 with Distance at most  7 : 72839\n",
      "Number of Paths from Node 30 to Node 50 with Distance at most  8 : 1176156\n"
     ]
    }
   ],
   "source": [
    "#get all paths from node 30 to node 50 with distance at most max_distance\n",
    "for max_distance in np.arange(3,9):\n",
    "    paths = ksp.PathFind(30,40,Network,max_distance)\n",
    "    print('Number of Paths from Node 30 to Node 50 with Distance at most ', str(max_distance), ':', len(paths))"
   ]
  },
  {
   "cell_type": "code",
   "execution_count": 70,
   "metadata": {},
   "outputs": [
    {
     "data": {
      "text/plain": [
       "[30, 923, 169, 729, 573, 514, 636, 121, 40]"
      ]
     },
     "execution_count": 70,
     "metadata": {},
     "output_type": "execute_result"
    }
   ],
   "source": [
    "#look at a simple path in the path list\n",
    "ksp.GetSimplePaths(paths)[325]"
   ]
  },
  {
   "cell_type": "code",
   "execution_count": 71,
   "metadata": {},
   "outputs": [
    {
     "data": {
      "text/plain": [
       "476277"
      ]
     },
     "execution_count": 71,
     "metadata": {},
     "output_type": "execute_result"
    }
   ],
   "source": [
    "#check that a large percentage of computed paths are in fact simple\n",
    "ksp.CountSimplePaths(paths)"
   ]
  },
  {
   "cell_type": "code",
   "execution_count": 41,
   "metadata": {},
   "outputs": [
    {
     "data": {
      "text/plain": [
       "[10, 121, 353, 455, 506, 598, 800, 879, 905, 944, 946, 994]"
      ]
     },
     "execution_count": 41,
     "metadata": {},
     "output_type": "execute_result"
    }
   ],
   "source": [
    "#qc check that path is valid\n",
    "Network.neighbors(40, mode = 'in')"
   ]
  },
  {
   "cell_type": "markdown",
   "metadata": {},
   "source": [
    "### Weighted Directed Graph Example"
   ]
  },
  {
   "cell_type": "code",
   "execution_count": 62,
   "metadata": {},
   "outputs": [],
   "source": [
    "#set up weights\n",
    "incoming_edge_list = G.nonzero()[0]\n",
    "outgoing_edge_list = G.nonzero()[1]\n",
    "for index in range(len(incoming_edge_list)):\n",
    "    eid = Network.get_eid(incoming_edge_list[index],outgoing_edge_list[index])\n",
    "    edge = Network.es[eid]\n",
    "    edge['weight'] = np.random.uniform(1,5)"
   ]
  },
  {
   "cell_type": "code",
   "execution_count": 63,
   "metadata": {},
   "outputs": [
    {
     "data": {
      "text/plain": [
       "2.7562505671130433"
      ]
     },
     "execution_count": 63,
     "metadata": {},
     "output_type": "execute_result"
    }
   ],
   "source": [
    "#look at weight of edge between node 10 and 40\n",
    "eid = Network.get_eid(10,40)\n",
    "edge = Network.es[eid]\n",
    "edge['weight']"
   ]
  },
  {
   "cell_type": "code",
   "execution_count": 74,
   "metadata": {},
   "outputs": [
    {
     "data": {
      "text/plain": [
       "3.7161644608148414"
      ]
     },
     "execution_count": 74,
     "metadata": {},
     "output_type": "execute_result"
    }
   ],
   "source": [
    "eid = Network.get_eid(40,10)\n",
    "edge = Network.es[eid]\n",
    "edge['weight']"
   ]
  },
  {
   "cell_type": "code",
   "execution_count": 67,
   "metadata": {},
   "outputs": [
    {
     "name": "stdout",
     "output_type": "stream",
     "text": [
      "Number of Paths from Node 30 to Node 50 with Distance at most  8 : 2\n",
      "Number of Paths from Node 30 to Node 50 with Distance at most  9 : 4\n",
      "Number of Paths from Node 30 to Node 50 with Distance at most  10 : 11\n",
      "Number of Paths from Node 30 to Node 50 with Distance at most  11 : 39\n",
      "Number of Paths from Node 30 to Node 50 with Distance at most  12 : 141\n",
      "Number of Paths from Node 30 to Node 50 with Distance at most  13 : 458\n",
      "Number of Paths from Node 30 to Node 50 with Distance at most  14 : 1447\n",
      "Number of Paths from Node 30 to Node 50 with Distance at most  15 : 4588\n",
      "Number of Paths from Node 30 to Node 50 with Distance at most  16 : 14447\n",
      "Number of Paths from Node 30 to Node 50 with Distance at most  17 : 45288\n"
     ]
    }
   ],
   "source": [
    "for max_distance in np.arange(8,18):\n",
    "    paths = ksp.PathFind(30,40,Network,max_distance,edge_weights = True)\n",
    "    print('Number of Paths from Node 30 to Node 50 with Distance at most ', str(max_distance), ':', len(paths))"
   ]
  }
 ],
 "metadata": {
  "kernelspec": {
   "display_name": "Python 3",
   "language": "python",
   "name": "python3"
  },
  "language_info": {
   "codemirror_mode": {
    "name": "ipython",
    "version": 3
   },
   "file_extension": ".py",
   "mimetype": "text/x-python",
   "name": "python",
   "nbconvert_exporter": "python",
   "pygments_lexer": "ipython3",
   "version": "3.7.6"
  }
 },
 "nbformat": 4,
 "nbformat_minor": 4
}
